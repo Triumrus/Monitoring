{
 "cells": [
  {
   "cell_type": "code",
   "execution_count": null,
   "metadata": {},
   "outputs": [],
   "source": []
  },
  {
   "cell_type": "code",
   "execution_count": 1,
   "metadata": {},
   "outputs": [
    {
     "name": "stdout",
     "output_type": "stream",
     "text": [
      "'A9144D9E66B088AA45C1EA8D737F64A2FB64BB0674C210D14ED7329CF4DB2C9C'\n"
     ]
    }
   ],
   "source": [
    " from pprint import pprint\n",
    "from zeep import Client\n",
    "client = Client('http://www.uhtt.ru/dispatcher/ws/iface?wsdl')\n",
    "result = client.service.auth( \"kam1989@yandex.ru\",\"1q4w7e2r5t8y\")\n",
    "pprint(result)"
   ]
  },
  {
   "cell_type": "code",
   "execution_count": 2,
   "metadata": {},
   "outputs": [
    {
     "name": "stdout",
     "output_type": "stream",
     "text": [
      "Чипсы cheetos кукурузные с кетчупом 85г м/уп\n"
     ]
    }
   ],
   "source": [
    "a=client.service.getGoodsByCode(result,\"4690388001094\")\n",
    "\n",
    "print(a[0][\"Name\"])\n"
   ]
  },
  {
   "cell_type": "code",
   "execution_count": 3,
   "metadata": {},
   "outputs": [],
   "source": [
    "import pandas as pd"
   ]
  },
  {
   "cell_type": "code",
   "execution_count": 4,
   "metadata": {},
   "outputs": [],
   "source": [
    "c=0\n",
    "df=pd.DataFrame(columns=(\"#\",'name','id'))"
   ]
  },
  {
   "cell_type": "code",
   "execution_count": 5,
   "metadata": {},
   "outputs": [
    {
     "data": {
      "text/html": [
       "<div>\n",
       "<style scoped>\n",
       "    .dataframe tbody tr th:only-of-type {\n",
       "        vertical-align: middle;\n",
       "    }\n",
       "\n",
       "    .dataframe tbody tr th {\n",
       "        vertical-align: top;\n",
       "    }\n",
       "\n",
       "    .dataframe thead th {\n",
       "        text-align: right;\n",
       "    }\n",
       "</style>\n",
       "<table border=\"1\" class=\"dataframe\">\n",
       "  <thead>\n",
       "    <tr style=\"text-align: right;\">\n",
       "      <th></th>\n",
       "      <th>#</th>\n",
       "      <th>name</th>\n",
       "      <th>id</th>\n",
       "    </tr>\n",
       "  </thead>\n",
       "  <tbody>\n",
       "    <tr>\n",
       "      <th>0</th>\n",
       "      <td>0</td>\n",
       "      <td>Чипсы cheetos кукурузные с кетчупом 85г м/уп</td>\n",
       "      <td>4690388001094</td>\n",
       "    </tr>\n",
       "  </tbody>\n",
       "</table>\n",
       "</div>"
      ],
      "text/plain": [
       "   #                                          name             id\n",
       "0  0  Чипсы cheetos кукурузные с кетчупом 85г м/уп  4690388001094"
      ]
     },
     "execution_count": 5,
     "metadata": {},
     "output_type": "execute_result"
    }
   ],
   "source": [
    "df.append({'#' : c , 'name' : a[0][\"Name\"],'id' : \"4690388001094\"} , ignore_index=True)"
   ]
  },
  {
   "cell_type": "code",
   "execution_count": 6,
   "metadata": {},
   "outputs": [
    {
     "name": "stdout",
     "output_type": "stream",
     "text": [
      "IEd%]g!UKMpd{lpsL#T}!t~UEeS&a`+_~}p.[cRyZix@tutanota.com].omerta\n",
      "LhqLGOM@esJASCu.;P+uGm&%lnA~Ihps!O!GE[ueoFu~FtjURL`.[cRyZix@tutanota.com].omerta\n",
      "s`cR]D&%RJ_dEQB-@,(bf;&a(ItnHA.[cRyZix@tutanota.com].omerta\n",
      "tLJi&fejI;a(-EpeSNFIPLKNsQaikGQB[cPJ[;U)tDScPg]tCShPTFo}atl(,DDe}[fnF{eus{O&DFtBbFGUd;AoiML[B^Ad]JdA%QNaaL$S$#$bAi&QtD+P&}J!TnU,.[cRyZix@tutanota.com].omerta\n",
      "T[k)O_S,s#qf.EnasJQfOLh&uKqd@Ne)qQeGOmLm}bN[S&)aR)[b-PMqJd,g^&mj[%=M+l.[cRyZix@tutanota.com].omerta\n",
      "{`m#AohM%`D&P-)tio%GUuR,jCbnTASq-IfCSQN)G~-Bnh!t!+IUCHm!F+%fB;ut^=kmRso!fI]amaAD~]+bijDh-u.DTt{p!]~KGEk+kfaCdE!nnfg$o_(nt&AI`,!U.[cRyZix@tutanota.com].omerta\n"
     ]
    }
   ],
   "source": [
    "import glob, os\n",
    "os.chdir(\"E:/саша\")\n",
    "for file in glob.glob(\"*.omerta\"):\n",
    "    print(file)"
   ]
  },
  {
   "cell_type": "code",
   "execution_count": 7,
   "metadata": {},
   "outputs": [],
   "source": [
    "import re"
   ]
  },
  {
   "cell_type": "code",
   "execution_count": 8,
   "metadata": {},
   "outputs": [
    {
     "data": {
      "text/plain": [
       "['546531351']"
      ]
     },
     "execution_count": 8,
     "metadata": {},
     "output_type": "execute_result"
    }
   ],
   "source": [
    "re.findall(r'.*\\d', '546531351.png')"
   ]
  },
  {
   "cell_type": "code",
   "execution_count": null,
   "metadata": {},
   "outputs": [],
   "source": []
  },
  {
   "cell_type": "code",
   "execution_count": null,
   "metadata": {},
   "outputs": [],
   "source": []
  },
  {
   "cell_type": "code",
   "execution_count": null,
   "metadata": {},
   "outputs": [],
   "source": []
  },
  {
   "cell_type": "code",
   "execution_count": null,
   "metadata": {},
   "outputs": [],
   "source": []
  }
 ],
 "metadata": {
  "kernelspec": {
   "display_name": "Python 3",
   "language": "python",
   "name": "python3"
  },
  "language_info": {
   "codemirror_mode": {
    "name": "ipython",
    "version": 3
   },
   "file_extension": ".py",
   "mimetype": "text/x-python",
   "name": "python",
   "nbconvert_exporter": "python",
   "pygments_lexer": "ipython3",
   "version": "3.7.3"
  }
 },
 "nbformat": 4,
 "nbformat_minor": 2
}
