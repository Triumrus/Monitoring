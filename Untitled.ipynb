{
 "cells": [
  {
   "cell_type": "code",
   "execution_count": 3,
   "metadata": {},
   "outputs": [
    {
     "ename": "SyntaxError",
     "evalue": "Missing parentheses in call to 'print'. Did you mean print(\"training complete\")? (<ipython-input-3-2d981f798755>, line 66)",
     "output_type": "error",
     "traceback": [
      "\u001b[1;36m  File \u001b[1;32m\"<ipython-input-3-2d981f798755>\"\u001b[1;36m, line \u001b[1;32m66\u001b[0m\n\u001b[1;33m    print \"training complete\"\u001b[0m\n\u001b[1;37m                            ^\u001b[0m\n\u001b[1;31mSyntaxError\u001b[0m\u001b[1;31m:\u001b[0m Missing parentheses in call to 'print'. Did you mean print(\"training complete\")?\n"
     ]
    }
   ],
   "source": [
    "#!/usr/bin/python\n",
    "# -*- coding: utf8 -*-\n",
    "\n",
    "#################################################################\n",
    "# File name: digit_recognizer_training.py                       #\n",
    "# Description: Train digits on an image and save them as files. #\n",
    "# Version: 0.0.1                                                #\n",
    "# Author: Gökhan Sari                                           #\n",
    "# E-mail: g-sari@g-sari.com                                     #\n",
    "#################################################################\n",
    "\n",
    "import sys\n",
    "import cv2\n",
    "import numpy as np\n",
    "from picture import Pic\n",
    "\n",
    "\n",
    "class DigitRecognizerTraining:\n",
    "    \"\"\"Class used to train digits on an image\"\"\"\n",
    "\n",
    "    def __init__(self):\n",
    "        self.training_pics = [Pic(), Pic(pic_name=\"ocr_insurance_card_train_2.jpg\", contour_dimension_from_h=21, contour_dimension_to_h=28)]\n",
    "\n",
    "    def train(self):\n",
    "        \"\"\"Method to train digits\"\"\"\n",
    "        # Loop all images to train\n",
    "        for training_pic in self.training_pics:\n",
    "            im = cv2.imread(training_pic.pic_name)\n",
    "            gray = cv2.cvtColor(im, cv2.COLOR_BGR2GRAY)\n",
    "            blur = cv2.GaussianBlur(gray, (5, 5), 0)\n",
    "            thresh = cv2.adaptiveThreshold(blur, 255, 1, 1, 11, 1)\n",
    "            _, contours, hierarchy = cv2.findContours(thresh, cv2.RETR_LIST, cv2.CHAIN_APPROX_SIMPLE)\n",
    "            samples = np.empty((0, 100))\n",
    "            responses = []\n",
    "            keys = [i for i in range(48, 58)]\n",
    "\n",
    "            for cnt in contours:\n",
    "                if cv2.contourArea(cnt) > (training_pic.contour_dimension_to_h * 2):\n",
    "                    [x, y, w, h] = cv2.boundingRect(cnt)\n",
    "                    # print(\"contour:\" w, h)\n",
    "                    if h > training_pic.contour_dimension_from_h and h < training_pic.contour_dimension_to_h:\n",
    "                        cv2.rectangle(im, (x - 1, y - 1), (x + 1 + w, y + 1 + h), (0, 0, 255), 1)\n",
    "                        roi = thresh[y:y + h, x:x + w]\n",
    "                        roismall = cv2.resize(roi, (10, 10))\n",
    "                        cv2.imshow('Training: Enter digits displayed in the red rectangle!', im)\n",
    "                        key = cv2.waitKey(0)\n",
    "\n",
    "                        if key == 27:  # (escape to quit)\n",
    "                            self.save_data(samples, responses)\n",
    "                            cv2.destroyAllWindows()\n",
    "                            sys.exit()\n",
    "                        elif key in keys:  # (append data)\n",
    "                            responses.append(int(chr(key)))\n",
    "                            sample = roismall.reshape((1, 100))\n",
    "                            samples = np.append(samples, sample, 0)\n",
    "        # Save collected data\n",
    "        self.save_data(samples, responses)\n",
    "\n",
    "    @staticmethod\n",
    "    def save_data(samples, responses):\n",
    "        \"\"\"Method to save trained data\"\"\"\n",
    "        responses = np.array(responses, np.float32)\n",
    "        responses = responses.reshape((responses.size, 1))\n",
    "        np.savetxt('ocr_training.data', samples)\n",
    "        np.savetxt('ocr_responses.data', responses)\n",
    "        print \"training complete\"\n",
    "\n",
    "# Start the training process\n",
    "if __name__ == '__main__':\n",
    "    DigitRecognizerTraining().train()"
   ]
  },
  {
   "cell_type": "code",
   "execution_count": null,
   "metadata": {},
   "outputs": [],
   "source": []
  }
 ],
 "metadata": {
  "kernelspec": {
   "display_name": "Python 3",
   "language": "python",
   "name": "python3"
  },
  "language_info": {
   "codemirror_mode": {
    "name": "ipython",
    "version": 3
   },
   "file_extension": ".py",
   "mimetype": "text/x-python",
   "name": "python",
   "nbconvert_exporter": "python",
   "pygments_lexer": "ipython3",
   "version": "3.7.3"
  }
 },
 "nbformat": 4,
 "nbformat_minor": 2
}
